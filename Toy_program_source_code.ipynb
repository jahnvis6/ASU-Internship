{
  "nbformat": 4,
  "nbformat_minor": 0,
  "metadata": {
    "colab": {
      "provenance": [],
      "authorship_tag": "ABX9TyMC0XlY2stxeQ1QRTh4q42G",
      "include_colab_link": true
    },
    "kernelspec": {
      "name": "python3",
      "display_name": "Python 3"
    },
    "language_info": {
      "name": "python"
    }
  },
  "cells": [
    {
      "cell_type": "markdown",
      "metadata": {
        "id": "view-in-github",
        "colab_type": "text"
      },
      "source": [
        "<a href=\"https://colab.research.google.com/github/jahnvis6/ASU-Internship/blob/main/Toy_program_source_code.ipynb\" target=\"_parent\"><img src=\"https://colab.research.google.com/assets/colab-badge.svg\" alt=\"Open In Colab\"/></a>"
      ]
    },
    {
      "cell_type": "code",
      "execution_count": null,
      "metadata": {
        "id": "42weBbVfUJdY"
      },
      "outputs": [],
      "source": [
        "import subprocess\n",
        "import os\n",
        "\n",
        "def generate_rsa_keys():\n",
        "    # Generate RSA private key\n",
        "    subprocess.run(['openssl', 'genpkey', '-algorithm', 'RSA', '-out', 'private_key.pem'])\n",
        "    # Extract public key from the private key\n",
        "    subprocess.run(['openssl', 'rsa', '-pubout', '-in', 'private_key.pem', '-out', 'public_key.pem'])\n",
        "\n",
        "def encrypt_message(message, pub_key_file):\n",
        "    with open('message.txt', 'w') as f:\n",
        "        f.write(message)\n",
        "    subprocess.run(['openssl', 'rsautl', '-encrypt', '-inkey', pub_key_file, '-pubin', '-in', 'message.txt', '-out', 'encrypted.bin'])\n",
        "\n",
        "def decrypt_message(priv_key_file):\n",
        "    subprocess.run(['openssl', 'rsautl', '-decrypt', '-inkey', priv_key_file, '-in', 'encrypted.bin', '-out', 'decrypted.txt'])\n",
        "    with open('decrypted.txt', 'r') as f:\n",
        "        return f.read()\n",
        "\n",
        "def sign_message(message, priv_key_file):\n",
        "    with open('message.txt', 'w') as f:\n",
        "        f.write(message)\n",
        "    subprocess.run(['openssl', 'dgst', '-sha256', '-sign', priv_key_file, '-out', 'signature.bin', 'message.txt'])\n",
        "\n",
        "def verify_signature(message, pub_key_file):\n",
        "    with open('message.txt', 'w') as f:\n",
        "        f.write(message)\n",
        "    result = subprocess.run(['openssl', 'dgst', '-sha256', '-verify', pub_key_file, '-signature', 'signature.bin', 'message.txt'])\n",
        "    return result.returncode == 0\n",
        "\n",
        "def hash_message(message):\n",
        "    with open('message.txt', 'w') as f:\n",
        "        f.write(message)\n",
        "    result = subprocess.run(['openssl', 'dgst', '-sha256', 'message.txt'], capture_output=True, text=True)\n",
        "    return result.stdout.split()[-1]\n",
        "\n",
        "# Main program to demonstrate the functions\n",
        "if __name__ == \"__main__\":\n",
        "    # Generate RSA keys\n",
        "    generate_rsa_keys()\n",
        "\n",
        "    # Encrypt and decrypt a message\n",
        "    message = \"Hello, OpenSSL!\"\n",
        "    encrypt_message(message, 'public_key.pem')\n",
        "    decrypted_message = decrypt_message('private_key.pem')\n",
        "    print(\"Decrypted Message:\", decrypted_message)\n",
        "\n",
        "    # Sign and verify a message\n",
        "    sign_message(message, 'private_key.pem')\n",
        "    is_verified = verify_signature(message, 'public_key.pem')\n",
        "    print(\"Signature Verified:\", is_verified)\n",
        "\n",
        "    # Hash a message\n",
        "    message_hash = hash_message(message)\n",
        "    print(\"Message Hash:\", message_hash)\n"
      ]
    }
  ]
}